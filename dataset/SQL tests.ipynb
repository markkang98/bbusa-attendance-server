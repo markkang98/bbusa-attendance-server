{
 "cells": [
  {
   "cell_type": "code",
   "execution_count": 13,
   "metadata": {},
   "outputs": [
    {
     "name": "stdout",
     "output_type": "stream",
     "text": [
      "[(18, 1, datetime.date(2019, 11, 9)), (22, 1, datetime.date(2017, 4, 21)), (24, 1, datetime.date(2019, 4, 29)), (28, 1, datetime.date(2017, 8, 18)), (31, 1, datetime.date(2017, 1, 5)), (35, 1, datetime.date(2019, 9, 11)), (49, 1, datetime.date(2017, 7, 10)), (52, 1, datetime.date(2018, 10, 17)), (58, 1, datetime.date(2017, 8, 20)), (61, 1, datetime.date(2017, 3, 10)), (69, 1, datetime.date(2018, 5, 2)), (79, 1, datetime.date(2017, 8, 21)), (80, 1, datetime.date(2017, 11, 23)), (81, 1, datetime.date(2017, 11, 1)), (90, 1, datetime.date(2017, 11, 26)), (111, 1, datetime.date(2018, 12, 6)), (115, 1, datetime.date(2017, 6, 5)), (118, 1, datetime.date(2019, 8, 28)), (123, 1, datetime.date(2019, 9, 8)), (128, 1, datetime.date(2018, 6, 10)), (144, 1, datetime.date(2017, 10, 17)), (149, 1, datetime.date(2019, 4, 22)), (155, 1, datetime.date(2018, 3, 15)), (162, 1, datetime.date(2018, 9, 4)), (165, 1, datetime.date(2017, 7, 7)), (184, 1, datetime.date(2017, 7, 17)), (191, 1, datetime.date(2019, 4, 15)), (197, 1, datetime.date(2019, 10, 24)), (201, 1, datetime.date(2019, 4, 17)), (1, 2, datetime.date(2019, 4, 5)), (8, 2, datetime.date(2019, 11, 11)), (12, 2, datetime.date(2017, 5, 14)), (16, 2, datetime.date(2017, 7, 21)), (21, 2, datetime.date(2018, 1, 7)), (34, 2, datetime.date(2019, 4, 15)), (37, 2, datetime.date(2017, 11, 12)), (66, 2, datetime.date(2019, 11, 29)), (68, 2, datetime.date(2019, 9, 10)), (108, 2, datetime.date(2018, 1, 3)), (129, 2, datetime.date(2017, 3, 11)), (134, 2, datetime.date(2017, 1, 1)), (142, 2, datetime.date(2017, 5, 28)), (163, 2, datetime.date(2017, 8, 23)), (185, 2, datetime.date(2017, 4, 4)), (194, 2, datetime.date(2017, 11, 19)), (195, 2, datetime.date(2017, 1, 26)), (15, 3, datetime.date(2018, 8, 25)), (25, 3, datetime.date(2018, 12, 3)), (33, 3, datetime.date(2018, 6, 18)), (44, 3, datetime.date(2017, 9, 4)), (50, 3, datetime.date(2017, 4, 29)), (55, 3, datetime.date(2019, 10, 5)), (57, 3, datetime.date(2019, 1, 2)), (62, 3, datetime.date(2017, 1, 28)), (67, 3, datetime.date(2017, 2, 25)), (76, 3, datetime.date(2019, 4, 20)), (78, 3, datetime.date(2018, 2, 4)), (99, 3, datetime.date(2018, 9, 23)), (104, 3, datetime.date(2018, 9, 17)), (114, 3, datetime.date(2019, 5, 23)), (125, 3, datetime.date(2017, 6, 24)), (127, 3, datetime.date(2018, 4, 17)), (130, 3, datetime.date(2018, 8, 30)), (141, 3, datetime.date(2019, 11, 8)), (161, 3, datetime.date(2019, 11, 18)), (166, 3, datetime.date(2019, 5, 25)), (168, 3, datetime.date(2018, 8, 7)), (173, 3, datetime.date(2017, 9, 18)), (190, 3, datetime.date(2017, 11, 10)), (3, 4, datetime.date(2018, 2, 4)), (27, 4, datetime.date(2018, 10, 6)), (29, 4, datetime.date(2019, 2, 21)), (70, 4, datetime.date(2018, 3, 18)), (84, 4, datetime.date(2017, 7, 10)), (86, 4, datetime.date(2017, 10, 2)), (102, 4, datetime.date(2017, 12, 3)), (105, 4, datetime.date(2017, 7, 23)), (106, 4, datetime.date(2019, 2, 3)), (109, 4, datetime.date(2019, 4, 18)), (121, 4, datetime.date(2018, 10, 16)), (124, 4, datetime.date(2019, 3, 18)), (126, 4, datetime.date(2019, 10, 6)), (133, 4, datetime.date(2018, 2, 20)), (154, 4, datetime.date(2017, 9, 30)), (157, 4, datetime.date(2018, 6, 20)), (159, 4, datetime.date(2019, 1, 21)), (176, 4, datetime.date(2019, 11, 10)), (192, 4, datetime.date(2019, 8, 9)), (198, 4, datetime.date(2018, 2, 5)), (4, 5, datetime.date(2019, 8, 10)), (9, 5, datetime.date(2017, 10, 29)), (11, 5, datetime.date(2019, 6, 27)), (23, 5, datetime.date(2017, 5, 21)), (30, 5, datetime.date(2019, 5, 14)), (32, 5, datetime.date(2019, 5, 2)), (38, 5, datetime.date(2018, 1, 18)), (46, 5, datetime.date(2018, 2, 20)), (48, 5, datetime.date(2019, 5, 28)), (54, 5, datetime.date(2017, 5, 2)), (74, 5, datetime.date(2017, 7, 29)), (88, 5, datetime.date(2019, 6, 30)), (91, 5, datetime.date(2019, 10, 26)), (95, 5, datetime.date(2017, 7, 11)), (97, 5, datetime.date(2019, 10, 8)), (100, 5, datetime.date(2018, 3, 10)), (116, 5, datetime.date(2019, 2, 18)), (136, 5, datetime.date(2019, 9, 17)), (139, 5, datetime.date(2019, 10, 28)), (143, 5, datetime.date(2017, 4, 12)), (153, 5, datetime.date(2018, 3, 9)), (180, 5, datetime.date(2017, 4, 22)), (188, 5, datetime.date(2019, 6, 5)), (199, 5, datetime.date(2018, 5, 12)), (203, 5, datetime.date(2018, 12, 1)), (2, 6, datetime.date(2017, 11, 13)), (7, 6, datetime.date(2017, 2, 15)), (10, 6, datetime.date(2019, 7, 3)), (14, 6, datetime.date(2018, 5, 11)), (20, 6, datetime.date(2018, 6, 12)), (36, 6, datetime.date(2017, 12, 9)), (39, 6, datetime.date(2018, 9, 14)), (42, 6, datetime.date(2017, 6, 9)), (53, 6, datetime.date(2018, 5, 30)), (56, 6, datetime.date(2017, 3, 2)), (72, 6, datetime.date(2019, 1, 29)), (89, 6, datetime.date(2018, 4, 21)), (113, 6, datetime.date(2017, 7, 9)), (123, 6, datetime.date(2017, 2, 12)), (167, 6, datetime.date(2017, 10, 25)), (169, 6, datetime.date(2018, 9, 8)), (171, 6, datetime.date(2017, 12, 28)), (172, 6, datetime.date(2019, 11, 13)), (186, 6, datetime.date(2017, 7, 17)), (189, 6, datetime.date(2018, 2, 25)), (6, 7, datetime.date(2019, 2, 26)), (41, 7, datetime.date(2017, 3, 26)), (47, 7, datetime.date(2017, 10, 4)), (75, 7, datetime.date(2018, 2, 19)), (77, 7, datetime.date(2019, 2, 19)), (101, 7, datetime.date(2018, 4, 7)), (112, 7, datetime.date(2017, 5, 24)), (117, 7, datetime.date(2017, 7, 11)), (138, 7, datetime.date(2017, 9, 21)), (140, 7, datetime.date(2018, 6, 21)), (145, 7, datetime.date(2017, 7, 16)), (158, 7, datetime.date(2019, 11, 14)), (177, 7, datetime.date(2019, 4, 23)), (179, 7, datetime.date(2019, 9, 15)), (181, 7, datetime.date(2019, 3, 1)), (5, 8, datetime.date(2017, 8, 23)), (13, 8, datetime.date(2019, 8, 13)), (19, 8, datetime.date(2017, 4, 7)), (45, 8, datetime.date(2017, 10, 8)), (71, 8, datetime.date(2017, 7, 25)), (82, 8, datetime.date(2019, 4, 20)), (83, 8, datetime.date(2017, 7, 24)), (85, 8, datetime.date(2018, 7, 13)), (98, 8, datetime.date(2019, 3, 3)), (110, 8, datetime.date(2017, 8, 9)), (119, 8, datetime.date(2018, 9, 6)), (148, 8, datetime.date(2018, 7, 29)), (151, 8, datetime.date(2019, 10, 7)), (156, 8, datetime.date(2017, 7, 10)), (160, 8, datetime.date(2019, 9, 15)), (164, 8, datetime.date(2019, 7, 7)), (170, 8, datetime.date(2018, 5, 30)), (174, 8, datetime.date(2017, 11, 8)), (175, 8, datetime.date(2019, 10, 30)), (196, 8, datetime.date(2018, 6, 4)), (202, 8, datetime.date(2017, 4, 18)), (17, 9, datetime.date(2017, 1, 25)), (40, 9, datetime.date(2017, 6, 24)), (51, 9, datetime.date(2019, 5, 13)), (59, 9, datetime.date(2019, 1, 17)), (64, 9, datetime.date(2018, 10, 11)), (65, 9, datetime.date(2017, 8, 30)), (92, 9, datetime.date(2019, 6, 4)), (93, 9, datetime.date(2017, 8, 24)), (94, 9, datetime.date(2019, 2, 3)), (96, 9, datetime.date(2019, 5, 3)), (103, 9, datetime.date(2017, 10, 7)), (131, 9, datetime.date(2017, 3, 17)), (135, 9, datetime.date(2019, 2, 14)), (137, 9, datetime.date(2017, 3, 4)), (146, 9, datetime.date(2018, 10, 13)), (147, 9, datetime.date(2017, 2, 15)), (182, 9, datetime.date(2019, 9, 24)), (187, 9, datetime.date(2019, 6, 23)), (193, 9, datetime.date(2017, 7, 19)), (200, 9, datetime.date(2018, 12, 10)), (26, 10, datetime.date(2017, 8, 24)), (43, 10, datetime.date(2018, 1, 19)), (60, 10, datetime.date(2019, 4, 26)), (63, 10, datetime.date(2018, 6, 22)), (73, 10, datetime.date(2019, 7, 19)), (87, 10, datetime.date(2018, 10, 5)), (107, 10, datetime.date(2017, 8, 20)), (120, 10, datetime.date(2017, 8, 19)), (122, 10, datetime.date(2017, 5, 25)), (132, 10, datetime.date(2019, 7, 26)), (150, 10, datetime.date(2017, 7, 13)), (152, 10, datetime.date(2017, 7, 16)), (178, 10, datetime.date(2018, 7, 26)), (183, 10, datetime.date(2019, 1, 25))]\n"
     ]
    }
   ],
   "source": [
    "import pandas as pd\n",
    "import mysql.connector as mysql\n",
    "\n",
    "#setting up\n",
    "db = mysql.connect(\n",
    "    host = \"bbusa-aws-database.cmzqesgmdg2y.us-east-1.rds.amazonaws.com\",\n",
    "    user = \"root\",\n",
    "    passwd = \"computerscience316\"\n",
    ")\n",
    "cursor = db.cursor()\n",
    "\n",
    "query = \"Select a.SID, a.CID, start_date FROM innodb.Takes as a, innodb.Student as s WHERE a.SID = s.SID\"\n",
    "cursor.execute(query)\n",
    "databases = cursor.fetchall()\n",
    "print(databases)\n"
   ]
  },
  {
   "cell_type": "code",
   "execution_count": null,
   "metadata": {},
   "outputs": [],
   "source": []
  }
 ],
 "metadata": {
  "kernelspec": {
   "display_name": "Python 3",
   "language": "python",
   "name": "python3"
  },
  "language_info": {
   "codemirror_mode": {
    "name": "ipython",
    "version": 3
   },
   "file_extension": ".py",
   "mimetype": "text/x-python",
   "name": "python",
   "nbconvert_exporter": "python",
   "pygments_lexer": "ipython3",
   "version": "3.6.8"
  }
 },
 "nbformat": 4,
 "nbformat_minor": 2
}
